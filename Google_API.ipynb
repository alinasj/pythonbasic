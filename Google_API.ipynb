{
 "cells": [
  {
   "cell_type": "markdown",
   "metadata": {},
   "source": [
    "### Imports"
   ]
  },
  {
   "cell_type": "code",
   "execution_count": 8,
   "metadata": {},
   "outputs": [],
   "source": [
    "from __future__ import print_function\n",
    "import pickle\n",
    "import os.path\n",
    "from googleapiclient.discovery import build\n",
    "from google_auth_oauthlib.flow import InstalledAppFlow\n",
    "from google.auth.transport.requests import Request\n",
    "\n",
    "# If modifying these scopes, delete the file token.pickle.\n",
    "SCOPES = ['https://www.googleapis.com/auth/drive.metadata.readonly']"
   ]
  },
  {
   "cell_type": "markdown",
   "metadata": {},
   "source": [
    "### Authentications\n",
    "###### Remember to include \"credentials.json\" file in the folder"
   ]
  },
  {
   "cell_type": "code",
   "execution_count": 9,
   "metadata": {},
   "outputs": [],
   "source": [
    "if os.path.exists('token.pickle'):\n",
    "    with open('token.pickle', 'rb') as token:\n",
    "        creds = pickle.load(token)\n",
    "# If there are no (valid) credentials available, let the user log in.\n",
    "if not creds or not creds.valid:\n",
    "    if creds and creds.expired and creds.refresh_token:\n",
    "        creds.refresh(Request())\n",
    "    else:\n",
    "        flow = InstalledAppFlow.from_client_secrets_file(\n",
    "            'credentials.json', SCOPES)\n",
    "        creds = flow.run_local_server(port=0)\n",
    "    # Save the credentials for the next run\n",
    "    with open('token.pickle', 'wb') as token:\n",
    "        pickle.dump(creds, token)\n",
    "service = build('drive', 'v3', credentials=creds)"
   ]
  },
  {
   "cell_type": "markdown",
   "metadata": {},
   "source": [
    "### API calls"
   ]
  },
  {
   "cell_type": "code",
   "execution_count": 10,
   "metadata": {},
   "outputs": [
    {
     "name": "stdout",
     "output_type": "stream",
     "text": [
      "Files:\n",
      "HAND DETECT.zip (1jVjjKysw-Ekd4QNsveD7_skhvdmlCi4_)\n",
      "Accounts (1gTiY5Bz0pcwFmghPpNLzPSFJNH2sRtm3YCC-xlDcV6w)\n",
      "type/writing exercise (1rseldeFUEir6KGhw4nJyRNtukXxTW_bRTv1NOTKKixU)\n",
      "Human Pose & Activity Understanding (1HctA9TuKhdvrmeUskEEp5oYEsWabhW3MTwEG9L8uQSU)\n",
      "canadian universities (1EKXXsfoP8X6MQeMlHDTp1ktZBOE7bbCHacoBUV-gFVE)\n",
      "EDUCATION (1qyxh6gsRoONPEYAwI-9ygS2feRxrronJ)\n",
      "university details (1IBVqge8ed5dr4RkKxUfWVRiKtV_0_cqC)\n",
      "documents (1Hf6dEOQiATROyon_3rJItu_ZG32SAtPK)\n",
      "python class notes (1zk16bfMG1X1eSV6H8HJ_Ucum48xN416f4vtkk8l5D0s)\n",
      "Locust Lake Camping stuff (1rPkVf5O8IuhxgzhZXEof3xDn4RLnsUC4qsQNEiiVQpg)\n"
     ]
    }
   ],
   "source": [
    "results = service.files().list(pageSize=10, fields=\"nextPageToken, files(id, name)\").execute()\n",
    "items = results.get('files', [])\n",
    "\n",
    "if not items:\n",
    "    print('No files found.')\n",
    "else:\n",
    "    print('Files:')\n",
    "for item in items:\n",
    "    print(u'{0} ({1})'.format(item['name'], item['id']))"
   ]
  },
  {
   "cell_type": "code",
   "execution_count": 22,
   "metadata": {},
   "outputs": [
    {
     "data": {
      "text/plain": [
       "{'files': [{'name': 'HAND DETECT.zip', 'starred': False},\n",
       "  {'name': 'Accounts', 'starred': False},\n",
       "  {'name': 'type/writing exercise', 'starred': False},\n",
       "  {'name': 'Human Pose & Activity Understanding', 'starred': False},\n",
       "  {'name': 'canadian universities', 'starred': False},\n",
       "  {'name': 'EDUCATION', 'starred': False},\n",
       "  {'name': 'university details', 'starred': False},\n",
       "  {'name': 'documents', 'starred': False},\n",
       "  {'name': 'python class notes', 'starred': False},\n",
       "  {'name': 'Locust Lake Camping stuff', 'starred': False},\n",
       "  {'name': 'SAHistory FINAL.pdf', 'starred': False},\n",
       "  {'name': 'June 2020 Camping', 'starred': False},\n",
       "  {'name': 'email to council', 'starred': False},\n",
       "  {'name': 'dogcat.zip', 'starred': False},\n",
       "  {'name': 'Tensorflow_1.1.ipynb', 'starred': False},\n",
       "  {'name': '10th transcript.pdf', 'starred': False},\n",
       "  {'name': '12th transcript.pdf', 'starred': False},\n",
       "  {'name': 'transcripts and lor.pdf', 'starred': False},\n",
       "  {'name': 'Liberty division and staff', 'starred': False},\n",
       "  {'name': '2019', 'starred': False}]}"
      ]
     },
     "execution_count": 22,
     "metadata": {},
     "output_type": "execute_result"
    }
   ],
   "source": [
    "results = service.files().list(pageSize=20, fields=\"files(name, starred)\").execute()\n",
    "results"
   ]
  },
  {
   "cell_type": "code",
   "execution_count": null,
   "metadata": {},
   "outputs": [],
   "source": []
  }
 ],
 "metadata": {
  "kernelspec": {
   "display_name": "Python 3",
   "language": "python",
   "name": "python3"
  },
  "language_info": {
   "codemirror_mode": {
    "name": "ipython",
    "version": 3
   },
   "file_extension": ".py",
   "mimetype": "text/x-python",
   "name": "python",
   "nbconvert_exporter": "python",
   "pygments_lexer": "ipython3",
   "version": "3.7.6"
  }
 },
 "nbformat": 4,
 "nbformat_minor": 4
}
