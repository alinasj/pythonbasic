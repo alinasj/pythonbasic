{
 "cells": [
  {
   "cell_type": "code",
   "execution_count": 7,
   "metadata": {},
   "outputs": [
    {
     "name": "stdout",
     "output_type": "stream",
     "text": [
      "Hima's House\n",
      "no. of bedrooms : 4\n",
      "no. of bathrooms : 2\n",
      "no. of kitchens : 3\n",
      "\n",
      "Ruthie's House\n",
      "no. of bedrooms : 6\n",
      "no. of bathrooms : 4\n",
      "no. of kitchens : 2\n",
      "\n",
      "Sadia's House\n",
      "no. of bedrooms : 900\n",
      "no. of bathrooms : 30\n",
      "no. of kitchens : 41\n",
      "\n",
      "Esther's House\n",
      "no. of bedrooms : 1\n",
      "no. of bathrooms : 12\n",
      "no. of kitchens : 321\n"
     ]
    }
   ],
   "source": [
    "h_bed = 4\n",
    "h_bath = 2\n",
    "h_kitchen = 3\n",
    "r_bed = 6\n",
    "r_bath = 4\n",
    "r_kitchen = 2\n",
    "s_bed = 900\n",
    "s_bath = 30\n",
    "s_kitchen = 41\n",
    "e_bed = 1\n",
    "e_bath = 12\n",
    "e_kitchen = 321\n",
    "print(\"Hima's House\")\n",
    "print(\"no. of bedrooms :\",h_bed)\n",
    "print(\"no. of bathrooms :\", h_bath)\n",
    "print(\"no. of kitchens :\", h_kitchen)\n",
    "print(\"\\nRuthie's House\")\n",
    "print(\"no. of bedrooms :\",r_bed)\n",
    "print(\"no. of bathrooms :\", r_bath)\n",
    "print(\"no. of kitchens :\", r_kitchen)\n",
    "print(\"\\nSadia's House\")\n",
    "print(\"no. of bedrooms :\",s_bed)\n",
    "print(\"no. of bathrooms :\", s_bath)\n",
    "print(\"no. of kitchens :\", s_kitchen)\n",
    "print(\"\\nEsther's House\")\n",
    "print(\"no. of bedrooms :\",e_bed)\n",
    "print(\"no. of bathrooms :\", e_bath)\n",
    "print(\"no. of kitchens :\", e_kitchen)"
   ]
  },
  {
   "cell_type": "code",
   "execution_count": 9,
   "metadata": {},
   "outputs": [],
   "source": [
    "class house:\n",
    "    def __init__(self, bath_n, bed_n,kitchen_n):#constructor\n",
    "        self.bath = bath_n\n",
    "        self.bedroom = bed_n\n",
    "        self.kitchen = kitchen_n\n",
    "    def print_values(self):\n",
    "        print(\"no. of baths :\", self.bath)\n",
    "        print(\"no. of bedrooms :\", self.bedroom)\n",
    "        print(\"no. of kitchens :\", self.kitchen)"
   ]
  },
  {
   "cell_type": "code",
   "execution_count": 10,
   "metadata": {},
   "outputs": [],
   "source": [
    "hima = house(2,4,3)"
   ]
  },
  {
   "cell_type": "code",
   "execution_count": null,
   "metadata": {},
   "outputs": [],
   "source": []
  }
 ],
 "metadata": {
  "kernelspec": {
   "display_name": "Python 3",
   "language": "python",
   "name": "python3"
  },
  "language_info": {
   "codemirror_mode": {
    "name": "ipython",
    "version": 3
   },
   "file_extension": ".py",
   "mimetype": "text/x-python",
   "name": "python",
   "nbconvert_exporter": "python",
   "pygments_lexer": "ipython3",
   "version": "3.7.6"
  }
 },
 "nbformat": 4,
 "nbformat_minor": 4
}
