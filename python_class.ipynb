{
 "cells": [
  {
   "cell_type": "markdown",
   "metadata": {},
   "source": [
    "### Example 1"
   ]
  },
  {
   "cell_type": "code",
   "execution_count": 51,
   "metadata": {},
   "outputs": [],
   "source": [
    "fath_bath = 5\n",
    "fath_bedroom = 10\n",
    "fath_kitchen = 5\n",
    "sru_bath = 5\n",
    "sru_bedroom = 1\n",
    "sru_kitchen = 3\n",
    "ail_bath = 3\n",
    "ail_bedroom = 4\n",
    "ail_kitchen = 20"
   ]
  },
  {
   "cell_type": "code",
   "execution_count": 52,
   "metadata": {},
   "outputs": [
    {
     "name": "stdout",
     "output_type": "stream",
     "text": [
      "Fath\n",
      "no. of baths : 5\n",
      "no. of bedrooms : 10\n",
      "no. of kitchens : 5\n",
      "\n",
      "Srutika\n",
      "no. of baths : 5\n",
      "no. of bedrooms : 1\n",
      "no. of kitchens : 3\n",
      "\n",
      "Aileen\n",
      "no. of baths : 3\n",
      "no. of bedrooms : 4\n",
      "no. of kitchens : 20\n"
     ]
    }
   ],
   "source": [
    "print(\"Fath\")\n",
    "print(\"no. of baths :\", fath_bath)\n",
    "print(\"no. of bedrooms :\", fath_bedroom)\n",
    "print(\"no. of kitchens :\", fath_kitchen)\n",
    "print(\"\\nSrutika\")\n",
    "print(\"no. of baths :\", sru_bath)\n",
    "print(\"no. of bedrooms :\", sru_bedroom)\n",
    "print(\"no. of kitchens :\", sru_kitchen)\n",
    "print(\"\\nAileen\")\n",
    "print(\"no. of baths :\", ail_bath)\n",
    "print(\"no. of bedrooms :\", ail_bedroom)\n",
    "print(\"no. of kitchens :\", ail_kitchen)"
   ]
  },
  {
   "cell_type": "markdown",
   "metadata": {},
   "source": [
    "### Example 2"
   ]
  },
  {
   "cell_type": "code",
   "execution_count": 53,
   "metadata": {},
   "outputs": [],
   "source": [
    "#defined class\n",
    "class house_1:\n",
    "    bath = 4\n",
    "    bedroom = 5\n",
    "    kitchen = 2\n",
    "\n",
    "#initialized objects\n",
    "sru_1 = house_1()\n",
    "fath_1 = house_1()\n",
    "ail_1 = house_1()\n",
    "\n",
    "#assigned objects unique values\n",
    "fath_1.bath = 5\n",
    "fath_1.bedroom = 10\n",
    "fath_1.kitchen = 5\n",
    "sru_1.bath = 5\n",
    "sru_1.bedroom = 1\n",
    "sru_1.kitchen = 3\n",
    "ail_1.bath = 3\n",
    "ail_1.bedroom = 4\n",
    "ail_1.kitchen = 20"
   ]
  },
  {
   "cell_type": "code",
   "execution_count": 54,
   "metadata": {},
   "outputs": [
    {
     "name": "stdout",
     "output_type": "stream",
     "text": [
      "Fath\n",
      "no. of baths : 5\n",
      "no. of bedrooms : 10\n",
      "no. of kitchens : 5\n",
      "\n",
      "Srutika\n",
      "no. of baths : 5\n",
      "no. of bedrooms : 1\n",
      "no. of kitchens : 3\n",
      "\n",
      "Aileen\n",
      "no. of baths : 3\n",
      "no. of bedrooms : 4\n",
      "no. of kitchens : 20\n"
     ]
    }
   ],
   "source": [
    "print(\"Fath\")\n",
    "print(\"no. of baths :\", fath_1.bath)\n",
    "print(\"no. of bedrooms :\", fath_1.bedroom)\n",
    "print(\"no. of kitchens :\", fath_1.kitchen)\n",
    "print(\"\\nSrutika\")\n",
    "print(\"no. of baths :\", sru_1.bath)\n",
    "print(\"no. of bedrooms :\", sru_1.bedroom)\n",
    "print(\"no. of kitchens :\", sru_1.kitchen)\n",
    "print(\"\\nAileen\")\n",
    "print(\"no. of baths :\", ail_1.bath)\n",
    "print(\"no. of bedrooms :\", ail_1.bedroom)\n",
    "print(\"no. of kitchens :\", ail_1.kitchen)"
   ]
  },
  {
   "cell_type": "markdown",
   "metadata": {},
   "source": [
    "### Example 3"
   ]
  },
  {
   "cell_type": "code",
   "execution_count": 55,
   "metadata": {},
   "outputs": [],
   "source": [
    "#define class\n",
    "class house_2:\n",
    "    def __init__(self, bath_n, bed_n, kitchen_n):\n",
    "        self.bath = bath_n\n",
    "        self.bedroom = bed_n\n",
    "        self.kitchen = kitchen_n\n",
    "    \n",
    "    def print_values(self):\n",
    "        print(\"no. of baths :\", self.bath)\n",
    "        print(\"no. of bedrooms :\", self.bedroom)\n",
    "        print(\"no. of kitchens :\", self.kitchen)\n",
    "\n",
    "\n",
    "#initialized objects with unique values\n",
    "fath_2 = house_2(5,10,5)\n",
    "srutika_2 = house_2(5,1,3)\n",
    "aileen_2 = house_2(3,4,20)\n"
   ]
  },
  {
   "cell_type": "code",
   "execution_count": 56,
   "metadata": {},
   "outputs": [
    {
     "name": "stdout",
     "output_type": "stream",
     "text": [
      "Fath\n",
      "no. of baths : 5\n",
      "no. of bedrooms : 10\n",
      "no. of kitchens : 5\n",
      "\n",
      "Srutika\n",
      "no. of baths : 5\n",
      "no. of bedrooms : 1\n",
      "no. of kitchens : 3\n",
      "\n",
      "Aileen\n",
      "no. of baths : 3\n",
      "no. of bedrooms : 4\n",
      "no. of kitchens : 20\n"
     ]
    }
   ],
   "source": [
    "print(\"Fath\")\n",
    "fath_2.print_values()\n",
    "print(\"\\nSrutika\")\n",
    "srutika_2.print_values()\n",
    "print(\"\\nAileen\")\n",
    "aileen_2.print_values()"
   ]
  },
  {
   "cell_type": "code",
   "execution_count": null,
   "metadata": {},
   "outputs": [],
   "source": [
    "sru"
   ]
  }
 ],
 "metadata": {
  "kernelspec": {
   "display_name": "Python 3",
   "language": "python",
   "name": "python3"
  },
  "language_info": {
   "codemirror_mode": {
    "name": "ipython",
    "version": 3
   },
   "file_extension": ".py",
   "mimetype": "text/x-python",
   "name": "python",
   "nbconvert_exporter": "python",
   "pygments_lexer": "ipython3",
   "version": "3.7.6"
  }
 },
 "nbformat": 4,
 "nbformat_minor": 4
}
