{
 "cells": [
  {
   "cell_type": "markdown",
   "metadata": {},
   "source": [
    "### Lists"
   ]
  },
  {
   "cell_type": "code",
   "execution_count": 14,
   "metadata": {},
   "outputs": [],
   "source": [
    "#list ==> [<content>]\n",
    "l = [1,2,3,4]\n",
    "m = [\"a\",\"b\",\"c\",\"d\"]"
   ]
  },
  {
   "cell_type": "code",
   "execution_count": 15,
   "metadata": {},
   "outputs": [
    {
     "name": "stdout",
     "output_type": "stream",
     "text": [
      "[1, 2, 3, 4]\n"
     ]
    },
    {
     "data": {
      "text/plain": [
       "list"
      ]
     },
     "execution_count": 15,
     "metadata": {},
     "output_type": "execute_result"
    }
   ],
   "source": [
    "print(l)\n",
    "type(l)"
   ]
  },
  {
   "cell_type": "code",
   "execution_count": 16,
   "metadata": {},
   "outputs": [
    {
     "name": "stdout",
     "output_type": "stream",
     "text": [
      "3\n"
     ]
    }
   ],
   "source": [
    "print(l[2])"
   ]
  },
  {
   "cell_type": "code",
   "execution_count": 32,
   "metadata": {},
   "outputs": [
    {
     "name": "stdout",
     "output_type": "stream",
     "text": [
      "[2, 3, 4]\n"
     ]
    }
   ],
   "source": [
    "print(l[1:4])"
   ]
  },
  {
   "cell_type": "code",
   "execution_count": 12,
   "metadata": {},
   "outputs": [
    {
     "name": "stdout",
     "output_type": "stream",
     "text": [
      "['a', 'b', 'c', 'd']\n"
     ]
    },
    {
     "data": {
      "text/plain": [
       "list"
      ]
     },
     "execution_count": 12,
     "metadata": {},
     "output_type": "execute_result"
    }
   ],
   "source": [
    "print(m)\n",
    "type(m)"
   ]
  },
  {
   "cell_type": "markdown",
   "metadata": {},
   "source": [
    "### Dictionary "
   ]
  },
  {
   "cell_type": "code",
   "execution_count": 14,
   "metadata": {},
   "outputs": [
    {
     "name": "stdout",
     "output_type": "stream",
     "text": [
      "{'key1': 1, 'key2': 2}\n",
      "<class 'dict'>\n"
     ]
    }
   ],
   "source": [
    "#dictionary ==> {\"key\" : \"value\"}\n",
    "l_d = {\"key1\" : 1,\n",
    "       \"key2\" : 2}\n",
    "print(l_d)\n",
    "print(type(l_d))"
   ]
  },
  {
   "cell_type": "code",
   "execution_count": 15,
   "metadata": {},
   "outputs": [
    {
     "name": "stdout",
     "output_type": "stream",
     "text": [
      "1\n"
     ]
    }
   ],
   "source": [
    "print(l_d[\"key1\"])"
   ]
  },
  {
   "cell_type": "code",
   "execution_count": 3,
   "metadata": {},
   "outputs": [],
   "source": [
    "dict_ex1 = {\"iss_position\": {\"latitude\": \"-41.8849\", \n",
    "                             \"longitude\": \"38.2984\"}, \n",
    "           \"timestamp\": 1592585897, \n",
    "           \"message\": \"success\"}"
   ]
  },
  {
   "cell_type": "code",
   "execution_count": 5,
   "metadata": {},
   "outputs": [
    {
     "name": "stdout",
     "output_type": "stream",
     "text": [
      "{'iss_position': {'latitude': '-41.8849', 'longitude': '38.2984'}, 'timestamp': 1592585897, 'message': 'success'}\n"
     ]
    }
   ],
   "source": [
    "print(dict_ex1)"
   ]
  },
  {
   "cell_type": "code",
   "execution_count": 6,
   "metadata": {},
   "outputs": [
    {
     "name": "stdout",
     "output_type": "stream",
     "text": [
      "{'latitude': '-41.8849', 'longitude': '38.2984'}\n"
     ]
    }
   ],
   "source": [
    "print(dict_ex1['iss_position'])"
   ]
  },
  {
   "cell_type": "code",
   "execution_count": 7,
   "metadata": {},
   "outputs": [
    {
     "name": "stdout",
     "output_type": "stream",
     "text": [
      "38.2984\n"
     ]
    }
   ],
   "source": [
    "print(dict_ex1['iss_position']['longitude'])"
   ]
  },
  {
   "cell_type": "code",
   "execution_count": 4,
   "metadata": {},
   "outputs": [],
   "source": [
    "dict_ex2 = {\"message\": \"success\", \n",
    "            \"number\": 5, \n",
    "            \"people\": [{\"craft\": \"ISS\", \"name\": \"Chris Cassidy\"}, \n",
    "                       {\"craft\": \"ISS\", \"name\": \"Anatoly Ivanishin\"}, \n",
    "                       {\"craft\": \"ISS\", \"name\": \"Ivan Vagner\"}, \n",
    "                       {\"craft\": \"ISS\", \"name\": \"Doug Hurley\"}, \n",
    "                       {\"craft\": \"ISS\", \"name\": \"Bob Behnken\"}]}"
   ]
  },
  {
   "cell_type": "code",
   "execution_count": 19,
   "metadata": {},
   "outputs": [],
   "source": [
    "#website to track campers\n",
    "\n",
    "dict_camp = {\"no_of_users\": 4,\n",
    "             \"user_details\": [{\"user_name\": \"Srutika\",\n",
    "                               \"user_age\" : 27,\n",
    "                               \"user_location\": \"Canada\"},\n",
    "                             {\"user_name\": \"Fathima\",\n",
    "                               \"user_age\" : 24,\n",
    "                               \"user_location\": \"Philly\"},\n",
    "                             {\"user_name\": \"Maarya\",\n",
    "                               \"user_age\" : 26,\n",
    "                               \"user_location\": \"Pakistan\"},\n",
    "                             {\"user_name\": \"Aileen\",\n",
    "                               \"user_age\" : 21,\n",
    "                               \"user_location\": \"Kuwait\"}],\n",
    "            \"camping_details\":[{\"trip1\": \"nyc\",\n",
    "                               \"trip2\": \"burma\"},\n",
    "                              {\"trip1\": \"north pole\",\n",
    "                               \"trip2\": \"nigeria\"},\n",
    "                              {\"trip1\": \"lahore\",\n",
    "                               \"trip2\": \"puerto rico\"},\n",
    "                              {\"trip1\": \"kerela\",\n",
    "                               \"trip2\": \"pune\"},\n",
    "                              {\"trip1\": \"tamil nadu\",\n",
    "                               \"trip2\": \"chennai\"}]}"
   ]
  },
  {
   "cell_type": "code",
   "execution_count": 22,
   "metadata": {},
   "outputs": [
    {
     "data": {
      "text/plain": [
       "[{'user_name': 'Srutika', 'user_age': 27, 'user_location': 'Canada'},\n",
       " {'user_name': 'Fathima', 'user_age': 24, 'user_location': 'Philly'},\n",
       " {'user_name': 'Maarya', 'user_age': 26, 'user_location': 'Pakistan'},\n",
       " {'user_name': 'Aileen', 'user_age': 21, 'user_location': 'Kuwait'}]"
      ]
     },
     "execution_count": 22,
     "metadata": {},
     "output_type": "execute_result"
    }
   ],
   "source": [
    "dict_camp[\"user_details\"]"
   ]
  },
  {
   "cell_type": "code",
   "execution_count": 23,
   "metadata": {},
   "outputs": [
    {
     "data": {
      "text/plain": [
       "{'user_name': 'Fathima', 'user_age': 24, 'user_location': 'Philly'}"
      ]
     },
     "execution_count": 23,
     "metadata": {},
     "output_type": "execute_result"
    }
   ],
   "source": [
    "dict_camp['user_details'][1]"
   ]
  },
  {
   "cell_type": "code",
   "execution_count": 24,
   "metadata": {},
   "outputs": [
    {
     "data": {
      "text/plain": [
       "24"
      ]
     },
     "execution_count": 24,
     "metadata": {},
     "output_type": "execute_result"
    }
   ],
   "source": [
    "dict_camp['user_details'][1][\"user_age\"]\n"
   ]
  },
  {
   "cell_type": "code",
   "execution_count": 30,
   "metadata": {},
   "outputs": [
    {
     "data": {
      "text/plain": [
       "[{'user_name': 'Srutika', 'user_age': 27, 'user_location': 'Canada'},\n",
       " {'user_name': 'Fathima', 'user_age': 24, 'user_location': 'Philly'}]"
      ]
     },
     "execution_count": 30,
     "metadata": {},
     "output_type": "execute_result"
    }
   ],
   "source": [
    "dict_camp['user_details'][0:2]"
   ]
  },
  {
   "cell_type": "code",
   "execution_count": 35,
   "metadata": {},
   "outputs": [
    {
     "data": {
      "text/plain": [
       "[{'trip1': 'nyc', 'trip2': 'burma'},\n",
       " {'trip1': 'north pole', 'trip2': 'nigeria'}]"
      ]
     },
     "execution_count": 35,
     "metadata": {},
     "output_type": "execute_result"
    }
   ],
   "source": [
    "dict_camp[\"camping_details\"][0:2]"
   ]
  },
  {
   "cell_type": "markdown",
   "metadata": {},
   "source": [
    "### Request Library"
   ]
  },
  {
   "cell_type": "code",
   "execution_count": 39,
   "metadata": {},
   "outputs": [],
   "source": [
    "import requests"
   ]
  },
  {
   "cell_type": "code",
   "execution_count": 40,
   "metadata": {},
   "outputs": [],
   "source": [
    "response = requests.get(\"http://api.open-notify.org/astros.json\")"
   ]
  },
  {
   "cell_type": "code",
   "execution_count": 41,
   "metadata": {},
   "outputs": [
    {
     "data": {
      "text/plain": [
       "200"
      ]
     },
     "execution_count": 41,
     "metadata": {},
     "output_type": "execute_result"
    }
   ],
   "source": [
    "response.status_code"
   ]
  },
  {
   "cell_type": "code",
   "execution_count": 42,
   "metadata": {},
   "outputs": [
    {
     "name": "stdout",
     "output_type": "stream",
     "text": [
      "b'{\"message\": \"success\", \"number\": 5, \"people\": [{\"craft\": \"ISS\", \"name\": \"Chris Cassidy\"}, {\"craft\": \"ISS\", \"name\": \"Anatoly Ivanishin\"}, {\"craft\": \"ISS\", \"name\": \"Ivan Vagner\"}, {\"craft\": \"ISS\", \"name\": \"Doug Hurley\"}, {\"craft\": \"ISS\", \"name\": \"Bob Behnken\"}]}'\n"
     ]
    }
   ],
   "source": [
    "print(response.content)"
   ]
  },
  {
   "cell_type": "markdown",
   "metadata": {},
   "source": [
    "no. of people on ISS: 5\n",
    "name of people on the ISS:\n",
    "    Chris Cassidy\n",
    "    Anatoly Ivanishin\n",
    "    Ivan Vagner\n",
    "    Doug Hurley\n",
    "    Bob Behnken"
   ]
  },
  {
   "cell_type": "code",
   "execution_count": null,
   "metadata": {},
   "outputs": [],
   "source": [
    "# Assignment Print number of ppl in ISS"
   ]
  }
 ],
 "metadata": {
  "kernelspec": {
   "display_name": "Python 3",
   "language": "python",
   "name": "python3"
  },
  "language_info": {
   "codemirror_mode": {
    "name": "ipython",
    "version": 3
   },
   "file_extension": ".py",
   "mimetype": "text/x-python",
   "name": "python",
   "nbconvert_exporter": "python",
   "pygments_lexer": "ipython3",
   "version": "3.7.6"
  }
 },
 "nbformat": 4,
 "nbformat_minor": 4
}
